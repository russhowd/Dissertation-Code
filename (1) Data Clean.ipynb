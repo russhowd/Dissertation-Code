{
 "cells": [
  {
   "cell_type": "code",
   "execution_count": 1,
   "metadata": {},
   "outputs": [],
   "source": [
    "# import libraries needed for cleaning\n",
    "from pylab import *\n",
    "import numpy as np\n",
    "import pandas as pd\n",
    "from scipy import stats\n",
    "from datetime import datetime\n",
    "\n",
    "# specify number of rows and columns to show\n",
    "pd.set_option('display.max_rows', 20) \n",
    "pd.set_option('display.max_columns', 100)\n",
    "# set default number format to 3 decimal places\n",
    "pd.options.display.float_format = '{:40,.3f}'.format\n",
    "# set ggplot style for plots\n",
    "plt.style.use('ggplot') \n",
    "%matplotlib inline"
   ]
  },
  {
   "cell_type": "code",
   "execution_count": 2,
   "metadata": {},
   "outputs": [],
   "source": [
    "# Read in the data\n",
    "set1 = pd.read_csv('EveryoneActive_6.8.16_8.1.17.csv')\n",
    "set2 = pd.read_csv('EveryoneActive_8.2.17_8.31.18.csv')\n",
    "\n",
    "# Combine the two dataframes into a single dataset that runs from June 8, 2016 - August 31, 2018\n",
    "frames = [set1, set2]\n",
    "fullset = pd.concat(frames)"
   ]
  },
  {
   "cell_type": "code",
   "execution_count": 3,
   "metadata": {},
   "outputs": [
    {
     "data": {
      "text/plain": [
       "MembershipID                  int64\n",
       "SportsCentre                 object\n",
       "VisitDate                    object\n",
       "VisitTime                    object\n",
       "Age                          object\n",
       "Gender                       object\n",
       "Ethnicity                    object\n",
       "EthnicGroup                  object\n",
       "Postcode                     object\n",
       "ActivityType                 object\n",
       "MembershipType               object\n",
       "CitySaveActiveWestminster    object\n",
       "FirstVisit                   object\n",
       "dtype: object"
      ]
     },
     "execution_count": 3,
     "metadata": {},
     "output_type": "execute_result"
    }
   ],
   "source": [
    "# Check counts and datatypes\n",
    "fullset.count()\n",
    "\n",
    "fullset.dtypes"
   ]
  },
  {
   "cell_type": "code",
   "execution_count": 4,
   "metadata": {},
   "outputs": [],
   "source": [
    "# Convert VisitDate object type to datetime\n",
    "fullset['TimeStamp'] = pd.to_datetime(fullset['VisitDate'] + ' ' + fullset['VisitTime'])\n",
    "\n",
    "# Drop previous VisitDate and VisitTime columns\n",
    "fullset = fullset.drop(['VisitDate', 'VisitTime'], axis=1)\n",
    "\n",
    "# Re-order to column listing\n",
    "fullset = fullset[['MembershipID','SportsCentre','TimeStamp','Age','Gender','Ethnicity','EthnicGroup','Postcode','ActivityType','MembershipType','CitySaveActiveWestminster','FirstVisit']]\n",
    "\n",
    "# Convert Age to integer\n",
    "fullset['Age'] = pd.to_numeric(fullset['Age'], errors ='coerce')\n",
    "\n",
    "# Correct the name of the sport centres\n",
    "fullset['SportsCentre'] = fullset['SportsCentre'].replace({'Moberley Sports Centre':'Moberly SC','Moberly Sports Centre' : 'Moberly SC', 'Queen Mother Sport Centre' : 'Queen Mother SC', 'Marshall Street L C' : 'Marshall Street LC','Seymour Leisure Centre' : 'Seymour LC', 'Jubilee S C London' : 'Jubilee SC', 'Jubilee Community Centre' : 'Jubilee SC', 'Little Venice Sports C' : 'Little Venice SC'})\n",
    "\n"
   ]
  },
  {
   "cell_type": "code",
   "execution_count": 5,
   "metadata": {},
   "outputs": [],
   "source": [
    "# Create the new category of age bands\n",
    "bins = [0, 15, 64, np.inf]\n",
    "names = ['0-15', '16-64', '65+']\n",
    "\n",
    "fullset['AgeBand'] = pd.cut(fullset['Age'], bins, labels=names)\n",
    "\n",
    "\n",
    "# Fill missing AgeBands based on MembershipType category\n",
    "d = {'Oxygen - Senior': '65+', 'Fitness - Senior':'65+', 'Centre - Senior':'65+', 'Oxygen - Adult':'16-64',\n",
    "     'Fitness - Adult':'16-64', 'Centre - Adult':'16-64','Oxygen - Young Adult':'16-64', 'Fitness - Young Adult':'16-64',\n",
    "     'Centre - Young Adult':'16-64','Adult':'16-64','Centre - Young Adult Conc':'16-64','Fitness - Junior':'0-15',\n",
    "     'Oxygen - Junior':'0-15', 'Centre - Junior':'0-15', 'Centre - Jnr Concession':'0-15'}\n",
    "s = fullset.MembershipType.map(d)\n",
    "fullset.AgeBand = fullset.AgeBand.combine_first(s)\n",
    "\n",
    "\n",
    "# Re-order the column list\n",
    "fullset = fullset[['MembershipID','SportsCentre','TimeStamp','Age', 'AgeBand','Gender','Ethnicity','EthnicGroup','Postcode','ActivityType','MembershipType','CitySaveActiveWestminster','FirstVisit']]"
   ]
  },
  {
   "cell_type": "code",
   "execution_count": 6,
   "metadata": {},
   "outputs": [],
   "source": [
    "# Consolidate Gender categories names\n",
    "fullset['Gender'] = fullset['Gender'].replace({'Unspecified':'Not Recorded'})\n",
    "\n",
    "# Consolidate the ethnicity categories\n",
    "fullset['Ethnicity'] = fullset['Ethnicity'].replace({'Arabic':'Arab','Not willing to supply' : 'Unknown', 'White European Other' : 'White Other', 'Not Recorded' : 'Unknown','Other Mixed Background' : 'Mixed Other', 'Mixed Race' : 'Mixed Other', 'White & Asian' : 'White and Asian', 'Black Somali' : 'Black Other', 'White & Black Caribbean' : 'White and Black Caribbean', 'White& Black African' : 'White and Black African', 'White' : 'White British', 'Turkish' : 'Other', 'Brazilian' : 'Other', 'British' : 'White British', 'Whte British' : 'White British', 'ASIAN' : 'Asian Other', 'White Italian' : 'White Other'})\n",
    "\n",
    "# Consolidate Ethnic Group names\n",
    "fullset['EthnicGroup'] = fullset['EthnicGroup'].replace({'Not Recorded':'Unknown', 'Prefer not to say': 'Unknown'})\n",
    "\n",
    "\n"
   ]
  },
  {
   "cell_type": "code",
   "execution_count": 7,
   "metadata": {},
   "outputs": [],
   "source": [
    "# Split dataframe in two for clean export\n",
    "fullset1 = fullset.iloc[:700000, :]\n",
    "fullset2 = fullset.iloc[700000:, :]\n",
    "\n",
    "# Export cleaned dataframe to CSV for future use/analysis\n",
    "#fullset1.to_csv('1EveryoneActive_CLEANED.csv', index=False)\n",
    "#fullset2.to_csv('2EveryoneActive_CLEANED.csv', index=False)"
   ]
  }
 ],
 "metadata": {
  "kernelspec": {
   "display_name": "Python 3",
   "language": "python",
   "name": "python3"
  },
  "language_info": {
   "codemirror_mode": {
    "name": "ipython",
    "version": 3
   },
   "file_extension": ".py",
   "mimetype": "text/x-python",
   "name": "python",
   "nbconvert_exporter": "python",
   "pygments_lexer": "ipython3",
   "version": "3.7.0"
  }
 },
 "nbformat": 4,
 "nbformat_minor": 2
}
